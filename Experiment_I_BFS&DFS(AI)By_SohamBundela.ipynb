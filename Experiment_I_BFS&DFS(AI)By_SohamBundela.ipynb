{
  "nbformat": 4,
  "nbformat_minor": 0,
  "metadata": {
    "colab": {
      "provenance": [],
      "authorship_tag": "ABX9TyNYMeOzoI7ZLc2mx3nVctXZ",
      "include_colab_link": true
    },
    "kernelspec": {
      "name": "python3",
      "display_name": "Python 3"
    },
    "language_info": {
      "name": "python"
    }
  },
  "cells": [
    {
      "cell_type": "markdown",
      "metadata": {
        "id": "view-in-github",
        "colab_type": "text"
      },
      "source": [
        "<a href=\"https://colab.research.google.com/github/Soham-Bundela/College_Work__Artificial_Intelligence-/blob/main/Experiment_I_BFS%26DFS(AI)By_SohamBundela.ipynb\" target=\"_parent\"><img src=\"https://colab.research.google.com/assets/colab-badge.svg\" alt=\"Open In Colab\"/></a>"
      ]
    },
    {
      "cell_type": "markdown",
      "source": [
        "# Experiment-I\n",
        "Write a program in Python to implement Breadth First Search and Depth First Search.\n",
        "\n",
        "* By:- Soham Bundela\n",
        "* To:- Prof. Deepika Saraswat"
      ],
      "metadata": {
        "id": "YQRIQHkVQJy8"
      }
    },
    {
      "cell_type": "markdown",
      "source": [
        "# Creating a BFS Code in Python using Google Collab"
      ],
      "metadata": {
        "id": "G0cMmEx-QmfW"
      }
    },
    {
      "cell_type": "markdown",
      "source": [
        "* Importing of Libraries"
      ],
      "metadata": {
        "id": "lnqQqWpIQuzS"
      }
    },
    {
      "cell_type": "code",
      "source": [
        "import collections"
      ],
      "metadata": {
        "id": "MsOwD0-aQyax"
      },
      "execution_count": 15,
      "outputs": []
    },
    {
      "cell_type": "markdown",
      "source": [
        "* Creating the BFS Function"
      ],
      "metadata": {
        "id": "4sVEugZkQ3JC"
      }
    },
    {
      "cell_type": "code",
      "source": [
        "def bfs(graph, root):\n",
        "\n",
        "    visited, queue = set(), collections.deque([root])\n",
        "    visited.add(root)\n",
        "\n",
        "    while queue:\n",
        "        vertex = queue.popleft()\n",
        "        print(str(vertex) + \" \", end=\"\")\n",
        "\n",
        "        for neighbour in graph[vertex]:\n",
        "            if neighbour not in visited:\n",
        "                visited.add(neighbour)\n",
        "                queue.append(neighbour)"
      ],
      "metadata": {
        "id": "3hQn9VFHQ2Xs"
      },
      "execution_count": 16,
      "outputs": []
    },
    {
      "cell_type": "markdown",
      "source": [
        "* Using the Function"
      ],
      "metadata": {
        "id": "ZOuTWgnARPQy"
      }
    },
    {
      "cell_type": "code",
      "execution_count": 17,
      "metadata": {
        "colab": {
          "base_uri": "https://localhost:8080/"
        },
        "id": "36FkVbGeP8NL",
        "outputId": "16f9ab73-996f-422c-9ed1-2067a5591a2d"
      },
      "outputs": [
        {
          "output_type": "stream",
          "name": "stdout",
          "text": [
            "Following is Breadth First Traversal: \n",
            "0 1 2 3 "
          ]
        }
      ],
      "source": [
        "graph = {0: [1, 2], 1: [2], 2: [3], 3: [1, 2]}\n",
        "print(\"Following is Breadth First Traversal: \")\n",
        "bfs(graph, 0)"
      ]
    },
    {
      "cell_type": "markdown",
      "source": [
        "# Creating a DFS Code in Python using Google Collab"
      ],
      "metadata": {
        "id": "nDS9r5ngSI9a"
      }
    },
    {
      "cell_type": "markdown",
      "source": [
        "* Creating the DFS Function"
      ],
      "metadata": {
        "id": "MnEbTYIjSSqC"
      }
    },
    {
      "cell_type": "code",
      "source": [
        "def dfs(graph, start, visited=None):\n",
        "    if visited is None:\n",
        "        visited = set()\n",
        "    visited.add(start)\n",
        "\n",
        "    print(start)\n",
        "\n",
        "    for next in graph[start] - visited:\n",
        "        dfs(graph, next, visited)\n",
        "    return visited"
      ],
      "metadata": {
        "id": "rt1UmMPFSR4B"
      },
      "execution_count": 18,
      "outputs": []
    },
    {
      "cell_type": "markdown",
      "source": [
        "* Using the Function"
      ],
      "metadata": {
        "id": "NJRqVJs-SZTR"
      }
    },
    {
      "cell_type": "code",
      "source": [
        "graph = {'0': set(['1', '2']),\n",
        "         '1': set(['0', '3', '4']),\n",
        "         '2': set(['0']),\n",
        "         '3': set(['1']),\n",
        "         '4': set(['2', '3'])}\n",
        "\n",
        "dfs(graph, '0')"
      ],
      "metadata": {
        "colab": {
          "base_uri": "https://localhost:8080/"
        },
        "id": "vGgj1IUFSZFD",
        "outputId": "0374a67f-d759-487b-fef6-0e2e43553ef4"
      },
      "execution_count": 19,
      "outputs": [
        {
          "output_type": "stream",
          "name": "stdout",
          "text": [
            "0\n",
            "2\n",
            "1\n",
            "4\n",
            "3\n",
            "3\n"
          ]
        },
        {
          "output_type": "execute_result",
          "data": {
            "text/plain": [
              "{'0', '1', '2', '3', '4'}"
            ]
          },
          "metadata": {},
          "execution_count": 19
        }
      ]
    }
  ]
}
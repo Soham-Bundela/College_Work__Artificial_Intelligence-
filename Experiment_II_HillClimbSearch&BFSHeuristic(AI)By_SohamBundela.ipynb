{
  "nbformat": 4,
  "nbformat_minor": 0,
  "metadata": {
    "colab": {
      "provenance": [],
      "authorship_tag": "ABX9TyNcSI9LOypNDjIgg/YSsZ3A",
      "include_colab_link": true
    },
    "kernelspec": {
      "name": "python3",
      "display_name": "Python 3"
    },
    "language_info": {
      "name": "python"
    }
  },
  "cells": [
    {
      "cell_type": "markdown",
      "metadata": {
        "id": "view-in-github",
        "colab_type": "text"
      },
      "source": [
        "<a href=\"https://colab.research.google.com/github/Soham-Bundela/College_Work__Artificial_Intelligence-/blob/main/Experiment_II_HillClimbSearch%26BFSHeuristic(AI)By_SohamBundela.ipynb\" target=\"_parent\"><img src=\"https://colab.research.google.com/assets/colab-badge.svg\" alt=\"Open In Colab\"/></a>"
      ]
    },
    {
      "cell_type": "markdown",
      "source": [
        "# Experiment-II\n",
        "Write a program in Python to implement Hill Climb Search and Breadth First Search(Heuristic Function).\n",
        "\n",
        "* By:- Soham Bundela\n",
        "* To:- Prof. Deepika Saraswat"
      ],
      "metadata": {
        "id": "NguvY2MuRoC2"
      }
    },
    {
      "cell_type": "markdown",
      "source": [
        "# Creating a Hill Climb Search Program in Python using Google Collab"
      ],
      "metadata": {
        "id": "Ma2IHjxIR2Eh"
      }
    },
    {
      "cell_type": "markdown",
      "source": [
        "* Importing of Libraries"
      ],
      "metadata": {
        "id": "sR4TiSxJR9kr"
      }
    },
    {
      "cell_type": "code",
      "execution_count": 1,
      "metadata": {
        "id": "TNg7xSHyQnxU"
      },
      "outputs": [],
      "source": [
        "import numpy as np"
      ]
    },
    {
      "cell_type": "markdown",
      "source": [
        "* Define the Objective Function and Generate Neighboring Solutions"
      ],
      "metadata": {
        "id": "udeP_JevSAnf"
      }
    },
    {
      "cell_type": "code",
      "source": [
        "def objective(x):\n",
        "    return -x[0] ** 2 + 5\n",
        "\n",
        "\n",
        "def generate_neighbors(x, step_size=0.1):\n",
        "    return [np.array([x[0] + step_size]), np.array([x[0] - step_size])]"
      ],
      "metadata": {
        "id": "LSsQ7CI2SJFD"
      },
      "execution_count": 2,
      "outputs": []
    },
    {
      "cell_type": "markdown",
      "source": [
        "* Implement the Hill Climbing Algorithm"
      ],
      "metadata": {
        "id": "HnBr-X6FSIj_"
      }
    },
    {
      "cell_type": "code",
      "source": [
        "def hill_climbing(objective, initial, n_iterations=100, step_size=0.1):\n",
        "    current = np.array([initial])\n",
        "    current_eval = objective(current)\n",
        "    for i in range(n_iterations):\n",
        "        neighbors = generate_neighbors(current, step_size)\n",
        "        neighbor_evals = [objective(n) for n in neighbors]\n",
        "\n",
        "        best_idx = np.argmax(neighbor_evals)\n",
        "        if neighbor_evals[best_idx] > current_eval:\n",
        "            current = neighbors[best_idx]\n",
        "            current_eval = neighbor_evals[best_idx]\n",
        "            print(\n",
        "                f\"Step {i+1}: x = {current[0]:.4f}, f(x) = {current_eval:.4f}\")\n",
        "        else:\n",
        "            print(\"No better neighbors found. Algorithm converged.\")\n",
        "            break\n",
        "    return current, current_eval"
      ],
      "metadata": {
        "id": "K8pguiCASQVP"
      },
      "execution_count": 3,
      "outputs": []
    },
    {
      "cell_type": "markdown",
      "source": [
        "* Initialize and Run the Algorithm"
      ],
      "metadata": {
        "id": "h8Fs2ihOSVcF"
      }
    },
    {
      "cell_type": "code",
      "source": [
        "initial_guess = 2.0\n",
        "solution, value = hill_climbing(\n",
        "    objective, initial_guess, n_iterations=100, step_size=0.1)\n",
        "print(f\"\\nBest solution x = {solution[0]:.4f}, f(x) = {value:.4f}\")"
      ],
      "metadata": {
        "colab": {
          "base_uri": "https://localhost:8080/"
        },
        "id": "mRaD3VOoSWkE",
        "outputId": "f2bb9d23-bdca-4c77-8cbb-e784a62d0fb0"
      },
      "execution_count": 4,
      "outputs": [
        {
          "output_type": "stream",
          "name": "stdout",
          "text": [
            "Step 1: x = 1.9000, f(x) = 1.3900\n",
            "Step 2: x = 1.8000, f(x) = 1.7600\n",
            "Step 3: x = 1.7000, f(x) = 2.1100\n",
            "Step 4: x = 1.6000, f(x) = 2.4400\n",
            "Step 5: x = 1.5000, f(x) = 2.7500\n",
            "Step 6: x = 1.4000, f(x) = 3.0400\n",
            "Step 7: x = 1.3000, f(x) = 3.3100\n",
            "Step 8: x = 1.2000, f(x) = 3.5600\n",
            "Step 9: x = 1.1000, f(x) = 3.7900\n",
            "Step 10: x = 1.0000, f(x) = 4.0000\n",
            "Step 11: x = 0.9000, f(x) = 4.1900\n",
            "Step 12: x = 0.8000, f(x) = 4.3600\n",
            "Step 13: x = 0.7000, f(x) = 4.5100\n",
            "Step 14: x = 0.6000, f(x) = 4.6400\n",
            "Step 15: x = 0.5000, f(x) = 4.7500\n",
            "Step 16: x = 0.4000, f(x) = 4.8400\n",
            "Step 17: x = 0.3000, f(x) = 4.9100\n",
            "Step 18: x = 0.2000, f(x) = 4.9600\n",
            "Step 19: x = 0.1000, f(x) = 4.9900\n",
            "Step 20: x = -0.0000, f(x) = 5.0000\n",
            "No better neighbors found. Algorithm converged.\n",
            "\n",
            "Best solution x = -0.0000, f(x) = 5.0000\n"
          ]
        }
      ]
    },
    {
      "cell_type": "markdown",
      "source": [
        "# Creating a BFS(Informed Search) Program in Python using Google Collab"
      ],
      "metadata": {
        "id": "47SxUnTYSmUr"
      }
    },
    {
      "cell_type": "markdown",
      "source": [
        "* Importing the Libraries"
      ],
      "metadata": {
        "id": "tdJQv5C0Sr_X"
      }
    },
    {
      "cell_type": "code",
      "source": [
        "from heapq import heappush, heappop"
      ],
      "metadata": {
        "id": "bxr6wLQ2S3kh"
      },
      "execution_count": 5,
      "outputs": []
    },
    {
      "cell_type": "markdown",
      "source": [
        "* Defining the Best Fit Search Function"
      ],
      "metadata": {
        "id": "TpygJlAFS7dW"
      }
    },
    {
      "cell_type": "code",
      "source": [
        "def bestFirstSearch(edges, src, target, n):\n",
        "\n",
        "    # create the adjacency list\n",
        "    adj = [[] for _ in range(n)]\n",
        "    for edge in edges:\n",
        "        adj[edge[0]].append([edge[1], edge[2]])\n",
        "        adj[edge[1]].append([edge[0], edge[2]])\n",
        "\n",
        "    # create a visited array to\n",
        "    # keep track of visited nodes\n",
        "    visited = [False] * n\n",
        "\n",
        "    # create the min heap to store the nodes\n",
        "    # based on the cost\n",
        "    pq = []\n",
        "\n",
        "    # push the source node in the min heap\n",
        "    heappush(pq, [0, src])\n",
        "\n",
        "    # mark the source node as visited\n",
        "    visited[src] = True\n",
        "\n",
        "    # to store the path\n",
        "    path = []\n",
        "\n",
        "    # loop until the min heap is empty\n",
        "    while pq:\n",
        "        # get the top element of the min heap\n",
        "        x = heappop(pq)[1]\n",
        "\n",
        "        # push the current node in the path\n",
        "        path.append(x)\n",
        "\n",
        "        # if the current node is the target node\n",
        "        # break the loop\n",
        "        if x == target:\n",
        "            break\n",
        "\n",
        "        # loop through the edges of the current node\n",
        "        for edge in adj[x]:\n",
        "            if not visited[edge[0]]:\n",
        "                # mark the node as visited\n",
        "                visited[edge[0]] = True\n",
        "                # push the node in the min heap\n",
        "                heappush(pq, [edge[1], edge[0]])\n",
        "\n",
        "    return path"
      ],
      "metadata": {
        "id": "gnUuf1NqTDiv"
      },
      "execution_count": 6,
      "outputs": []
    },
    {
      "cell_type": "markdown",
      "source": [
        "* Initializing and Running the Code"
      ],
      "metadata": {
        "id": "aqjOPuFrTN0d"
      }
    },
    {
      "cell_type": "code",
      "source": [
        "\n",
        "\n",
        "\n",
        "\n",
        "if __name__ == \"__main__\":\n",
        "    n = 14\n",
        "    edgeList = [\n",
        "        [0, 1, 3], [0, 2, 6], [0, 3, 5],\n",
        "        [1, 4, 9], [1, 5, 8], [2, 6, 12],\n",
        "        [2, 7, 14], [3, 8, 7], [8, 9, 5],\n",
        "        [8, 10, 6], [9, 11, 1], [9, 12, 10],\n",
        "        [9, 13, 2]\n",
        "    ]\n",
        "    source = 0\n",
        "    target = 9\n",
        "    path = bestFirstSearch(edgeList, source, target, n)\n",
        "    for i in range(len(path)):\n",
        "        print(path[i], end=\" \")"
      ],
      "metadata": {
        "colab": {
          "base_uri": "https://localhost:8080/"
        },
        "id": "nK0pOMdkSwbs",
        "outputId": "301040d9-b895-4e8e-9c00-9e7644ea737d"
      },
      "execution_count": 7,
      "outputs": [
        {
          "output_type": "stream",
          "name": "stdout",
          "text": [
            "0 1 3 2 8 9 "
          ]
        }
      ]
    }
  ]
}